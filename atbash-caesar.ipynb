{
 "cells": [
  {
   "cell_type": "code",
   "execution_count": null,
   "metadata": {},
   "outputs": [],
   "source": [
    "### การเข้าและถอดรหัส atbash และ caesar\n",
    "\n",
    "#https://www.codingthailand.app/minigame/atbash-caesar"
   ]
  },
  {
   "cell_type": "code",
   "execution_count": 1,
   "metadata": {},
   "outputs": [],
   "source": []
  },
  {
   "cell_type": "code",
   "execution_count": 2,
   "metadata": {},
   "outputs": [
    {
     "name": "stdout",
     "output_type": "stream",
     "text": [
      "zfiliz aurora\n"
     ]
    }
   ],
   "source": [
    "import string\n",
    "\n",
    "#atbash\n",
    "p = string.ascii_lowercase[:26]\n",
    "\n",
    "k = ''\n",
    "for i in range(len(p)-1,-1,-1):\n",
    "    k+=(p[i])\n",
    "\n",
    "word = 'zfiliz'\n",
    "\n",
    "encode = ''\n",
    "for m in word:\n",
    " for i in zip(p,k):\n",
    "   if(m==i[0]):\n",
    "    encode+=(i[1])\n",
    "\n",
    "print(word,encode)"
   ]
  },
  {
   "cell_type": "code",
   "execution_count": 1,
   "metadata": {
    "scrolled": false
   },
   "outputs": [
    {
     "name": "stdout",
     "output_type": "stream",
     "text": [
      "w wxyzabcdefghijklmnopqrstuv fghijklmnopqrstuvwxyzabcde\n",
      "n nopqrstuvwxyzabcdefghijklm wxyzabcdefghijklmnopqrstuv\n",
      "y yzabcdefghijklmnopqrstuvwx hijklmnopqrstuvwxyzabcdefg\n",
      "c cdefghijklmnopqrstuvwxyzab lmnopqrstuvwxyzabcdefghijk\n",
      "d defghijklmnopqrstuvwxyzabc mnopqrstuvwxyzabcdefghijkl\n",
      "w wxyzabcdefghijklmnopqrstuv fghijklmnopqrstuvwxyzabcde\n",
      "n nopqrstuvwxyzabcdefghijklm wxyzabcdefghijklmnopqrstuv\n",
      "wnycdwn neptune\n"
     ]
    }
   ],
   "source": [
    "import string\n",
    "\n",
    "#ceasar\n",
    "a2z = string.ascii_lowercase[:26]\n",
    "\n",
    "offset = 9\n",
    "word = 'wnycdwn'\n",
    "\n",
    "for m in word:\n",
    " p = ''\n",
    " start_c1 = 0    \n",
    " for i in range(len(a2z)):\n",
    "  if(a2z[i]==m):\n",
    "    start_c1 = i\n",
    "    #print(i,m)\n",
    "  \n",
    " for i in range(start_c1,len(a2z)):\n",
    "    p+=(a2z[i])\n",
    "\n",
    " for i in range(0,start_c1):\n",
    "    p+=(a2z[i])\n",
    "    \n",
    "    \n",
    " k = ''\n",
    " for i in range(offset,len(p)):\n",
    "    k+=(p[i])\n",
    "\n",
    " for i in range(0,offset):\n",
    "    k+=(p[i])\n",
    "    \n",
    "\n",
    " print(m,p,k)\n",
    " encode = ''\n",
    " for m in word:\n",
    "  for i in zip(k,p):\n",
    "   if(m==i[0]):\n",
    "    encode+=(i[1])\n",
    "\n",
    "print(word,encode)"
   ]
  },
  {
   "cell_type": "code",
   "execution_count": 4,
   "metadata": {},
   "outputs": [
    {
     "data": {
      "text/plain": [
       "('nopqrstuvwxyzabcdefghijklm', 'wxyzabcdefghijklmnopqrstuv')"
      ]
     },
     "execution_count": 4,
     "metadata": {},
     "output_type": "execute_result"
    }
   ],
   "source": [
    "p,k"
   ]
  },
  {
   "cell_type": "code",
   "execution_count": null,
   "metadata": {},
   "outputs": [],
   "source": [
    "#ceasar v2"
   ]
  },
  {
   "cell_type": "code",
   "execution_count": 5,
   "metadata": {},
   "outputs": [
    {
     "name": "stdout",
     "output_type": "stream",
     "text": [
      "RSTUVWXYZABCDEFGHIJKLMNOPQ YZABCDEFGHIJKLMNOPQRSTUVWX R\n",
      "OPQRSTUVWXYZABCDEFGHIJKLMN VWXYZABCDEFGHIJKLMNOPQRSTU O\n",
      "CDEFGHIJKLMNOPQRSTUVWXYZAB JKLMNOPQRSTUVWXYZABCDEFGHI C\n",
      "KLMNOPQRSTUVWXYZABCDEFGHIJ RSTUVWXYZABCDEFGHIJKLMNOPQ K\n",
      "EFGHIJKLMNOPQRSTUVWXYZABCD LMNOPQRSTUVWXYZABCDEFGHIJK E\n",
      "TUVWXYZABCDEFGHIJKLMNOPQRS ABCDEFGHIJKLMNOPQRSTUVWXYZ T\n",
      "--\n",
      "ROCKET\n"
     ]
    }
   ],
   "source": [
    "import string\n",
    "word = 'YVJRLA'\n",
    "#word = 'Y'\n",
    "offset = 7\n",
    "\n",
    "a2z = string.ascii_lowercase[:26].upper()\n",
    "\n",
    "ans = ''\n",
    "for m in word:\n",
    "  k = ''\n",
    "  for j in range(len(a2z)):\n",
    "    if(m==a2z[j]):\n",
    "        index = j\n",
    "        break\n",
    "  \n",
    "  for i in range(index,len(a2z)):\n",
    "    k+=a2z[i]  \n",
    "  for i in range(0,index):\n",
    "    k+=a2z[i]\n",
    "\n",
    "  ship = 26-index\n",
    "    \n",
    "  if(ship==26):\n",
    "    ship=0\n",
    "  \n",
    "  p = ''\n",
    "  for i in range(len(a2z)-offset-ship,len(a2z)):\n",
    "    p+=a2z[i]  \n",
    "  for i in range(0,len(a2z)-offset-ship):\n",
    "    p+=a2z[i]\n",
    "\n",
    "  \n",
    "  print(p,k,p[0]) \n",
    "  ans+=p[0]\n",
    "\n",
    "print('--')\n",
    "print(ans)"
   ]
  },
  {
   "cell_type": "code",
   "execution_count": null,
   "metadata": {},
   "outputs": [],
   "source": []
  }
 ],
 "metadata": {
  "kernelspec": {
   "display_name": "Python 3",
   "language": "python",
   "name": "python3"
  },
  "language_info": {
   "codemirror_mode": {
    "name": "ipython",
    "version": 3
   },
   "file_extension": ".py",
   "mimetype": "text/x-python",
   "name": "python",
   "nbconvert_exporter": "python",
   "pygments_lexer": "ipython3",
   "version": "3.6.2"
  }
 },
 "nbformat": 4,
 "nbformat_minor": 4
}
